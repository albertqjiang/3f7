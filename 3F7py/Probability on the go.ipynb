{
 "cells": [
  {
   "cell_type": "code",
   "execution_count": 1,
   "metadata": {},
   "outputs": [
    {
     "name": "stdout",
     "output_type": "stream",
     "text": [
      "        HAMLET\n",
      "\n",
      "\n",
      "        DRAMATIS PERSONAE\n",
      "\n",
      "\n",
      "CLAUDIUS        king of Denmark. (KING CLAUDIUS:)\n",
      "\n",
      "HAMLET  son to the late, and nephew to the present king.\n",
      "\n",
      "POLONIUS        lord chamberlain. (LORD POLONIUS:)\n",
      "\n",
      "HORATIO friend to Hamlet.\n",
      "\n",
      "LAERTES son to Polonius.\n",
      "\n",
      "LUCIANUS        nephew to the king.\n"
     ]
    }
   ],
   "source": [
    "f = open('hamlet.txt', 'r')\n",
    "hamlet = f.read()\n",
    "f.close()\n",
    "print(hamlet[:294])"
   ]
  },
  {
   "cell_type": "code",
   "execution_count": 6,
   "metadata": {},
   "outputs": [
    {
     "name": "stdout",
     "output_type": "stream",
     "text": [
      "['\\n', ' ', '!', '&', \"'\", '(', ')', ',', '-', '.', ':', ';', '?', 'A', 'B', 'C', 'D', 'E', 'F', 'G', 'H', 'I', 'J', 'K', 'L', 'M', 'N', 'O', 'P', 'Q', 'R', 'S', 'T', 'U', 'V', 'W', 'Y', 'Z', '[', ']', 'a', 'b', 'c', 'd', 'e', 'f', 'g', 'h', 'i', 'j', 'k', 'l', 'm', 'n', 'o', 'p', 'q', 'r', 's', 't', 'u', 'v', 'w', 'x', 'y', 'z', '|']\n"
     ]
    }
   ],
   "source": [
    "alphabet = set()\n",
    "for character in hamlet:\n",
    "    alphabet.add(character)\n",
    "alphabet = sorted(list(alphabet))\n",
    "print(alphabet)"
   ]
  },
  {
   "cell_type": "code",
   "execution_count": 11,
   "metadata": {},
   "outputs": [],
   "source": [
    "def initalize_freqs(alphabet):\n",
    "    frequencies = {letter: 1 for letter in alphabet}\n",
    "    return frequencies"
   ]
  },
  {
   "cell_type": "code",
   "execution_count": 7,
   "metadata": {},
   "outputs": [],
   "source": [
    "def freq_on_the_go(frequencies, new_char):\n",
    "    frequencies[new_char] += 1\n",
    "    return frequencies"
   ]
  },
  {
   "cell_type": "code",
   "execution_count": 8,
   "metadata": {},
   "outputs": [],
   "source": [
    "def freq_to_prob(frequencies):\n",
    "    total_chars = sum([freq for freq in frequencies.values()])\n",
    "    probs = {character: freq/total_chars for character, freq in frequencies.items()}\n",
    "    return probs"
   ]
  },
  {
   "cell_type": "code",
   "execution_count": 12,
   "metadata": {},
   "outputs": [],
   "source": [
    "freqs = initalize_freqs(alphabet)\n",
    "for character in hamlet:\n",
    "    freqs = freq_on_the_go(freqs, character)\n",
    "    probs = freq_to_prob(freqs)"
   ]
  },
  {
   "cell_type": "code",
   "execution_count": 15,
   "metadata": {},
   "outputs": [
    {
     "name": "stdout",
     "output_type": "stream",
     "text": [
      "{'\\n': 0.029192780508531864, ' ': 0.27305824070765694, '!': 0.001458190491825442, '&': 2.8970672023022027e-05, \"'\": 0.0046691066410437165, '(': 8.208357073189574e-05, ')': 8.208357073189574e-05, ',': 0.01585178604193022, '-': 0.002042432377623053, '.': 0.0062914642743329505, ':': 0.002670130271455197, ';': 0.002814983631570307, '?': 0.002071403049646075, 'A': 0.007735169430146882, 'B': 0.0011733122169323921, 'C': 0.0023466244338647842, 'D': 0.002515620020665746, 'E': 0.007112299981651908, 'F': 0.0011250277635606887, 'G': 0.0021341728390292893, 'H': 0.0046111652969976725, 'I': 0.007416492037893639, 'J': 4.828445337170338e-05, 'K': 0.0006470116751808253, 'L': 0.005755506841907043, 'M': 0.0030902050157890163, 'N': 0.004075207864571765, 'O': 0.005205064073469624, 'P': 0.0014823327185112937, 'Q': 0.0004731876430426931, 'R': 0.004350429248790475, 'S': 0.0038193002617017374, 'T': 0.007527546280648557, 'U': 0.0032254014852297857, 'V': 0.00019796625882398386, 'W': 0.002129344393692119, 'Y': 0.0005263005417515668, 'Z': 0.000342819618939094, '[': 0.001187797552943903, ']': 0.001187797552943903, 'a': 0.04226821048158914, 'b': 0.007638600523403475, 'c': 0.011554469691848618, 'd': 0.02361109769876295, 'e': 0.06994003070891235, 'f': 0.012066284897588674, 'g': 0.01000453873861694, 'h': 0.037348024683012564, 'i': 0.035947775535233165, 'j': 0.0004925014243913745, 'k': 0.005475457012351163, 'l': 0.025909437679256034, 'm': 0.01759485480864871, 'n': 0.03767635896594015, 'o': 0.05043311154674418, 'p': 0.008319411315944492, 'q': 0.0006035556671462923, 'r': 0.03512211138257704, 's': 0.038410282657190035, 't': 0.0530501289194905, 'u': 0.019772483655712533, 'v': 0.005750678396569873, 'w': 0.012949890394290847, 'x': 0.0008594632700163202, 'y': 0.014958523654553706, 'z': 0.00025107915753285755, '|': 0.00023659382152134656}\n"
     ]
    }
   ],
   "source": [
    "print(probs)"
   ]
  }
 ],
 "metadata": {
  "kernelspec": {
   "display_name": "Python 3",
   "language": "python",
   "name": "python3"
  },
  "language_info": {
   "codemirror_mode": {
    "name": "ipython",
    "version": 3
   },
   "file_extension": ".py",
   "mimetype": "text/x-python",
   "name": "python",
   "nbconvert_exporter": "python",
   "pygments_lexer": "ipython3",
   "version": "3.6.6"
  }
 },
 "nbformat": 4,
 "nbformat_minor": 2
}
